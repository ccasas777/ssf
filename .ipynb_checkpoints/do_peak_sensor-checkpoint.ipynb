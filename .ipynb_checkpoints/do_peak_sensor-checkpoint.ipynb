{
 "cells": [
  {
   "cell_type": "code",
   "execution_count": 1,
   "id": "5e396499",
   "metadata": {},
   "outputs": [],
   "source": [
    "from matplotlib import pyplot as plt\n",
    "import random\n",
    "import numpy as np\n",
    "from scipy.signal import find_peaks"
   ]
  },
  {
   "cell_type": "code",
   "execution_count": 2,
   "id": "28973805",
   "metadata": {},
   "outputs": [
    {
     "name": "stdout",
     "output_type": "stream",
     "text": [
      "get  55  cycles\n"
     ]
    }
   ],
   "source": [
    "path = \"./simulator/B/index.txt\"\n",
    "pzt_ind = np.loadtxt(path)\n",
    "\n",
    "print(\"get \",len(pzt_ind),\" cycles\")"
   ]
  },
  {
   "cell_type": "markdown",
   "id": "f88d0ec4",
   "metadata": {},
   "source": [
    "# Load simulator data (raw_data)"
   ]
  },
  {
   "cell_type": "code",
   "execution_count": 3,
   "id": "1f84dfbf",
   "metadata": {},
   "outputs": [],
   "source": [
    "raw_data =[]\n",
    "for i in range(50):\n",
    "    tmp= np.loadtxt(\"../simulator/B/down/\"+str(i)+\".txt\")\n",
    "    raw_data.append(tmp)"
   ]
  },
  {
   "cell_type": "code",
   "execution_count": 4,
   "id": "6bff87e3",
   "metadata": {},
   "outputs": [
    {
     "name": "stdout",
     "output_type": "stream",
     "text": [
      "234375 234375\n"
     ]
    }
   ],
   "source": [
    "#data_size check\n",
    "data_size = int (pzt_ind[0][1] - pzt_ind[0][0])\n",
    "print(len(raw_data[0]),data_size)"
   ]
  },
  {
   "cell_type": "markdown",
   "id": "95b8e286",
   "metadata": {},
   "source": [
    "# Data Visualization tools"
   ]
  },
  {
   "cell_type": "code",
   "execution_count": 5,
   "id": "8582233a",
   "metadata": {},
   "outputs": [],
   "source": [
    "def create_peaks(ds,size):\n",
    "    vs = np.zeros(size)\n",
    "    i=0;\n",
    "    for i in range(len(ds)):        \n",
    "        vs[ds[i]] = 1        \n",
    "    return vs\n",
    "\n",
    "\n",
    "def plot_data(ds,raw_data,start =0,stop =0):\n",
    "    if (stop == 0): stop = len(raw_data)\n",
    "    if (start>stop): print(\"stop setting error\")\n",
    "    x = np.arange(0,len(raw_data),1)\n",
    "    vs = create_peaks(ds,data_size)\n",
    "    min_val = np.min(raw_data)\n",
    "    mag = np.max(raw_data) - min_val\n",
    "    \n",
    "    f = plt.figure()\n",
    "    f.set_figwidth(20)\n",
    "    f.set_figheight(6)\n",
    "    plt.plot(x[start:stop], vs[start:stop]*mag+min_val,alpha=0.3,color='r')\n",
    "    plt.plot(x[start:stop],raw_data[start:stop],color='gray',alpha=0.7) "
   ]
  },
  {
   "cell_type": "code",
   "execution_count": 6,
   "id": "8db82f24",
   "metadata": {},
   "outputs": [],
   "source": [
    "#  normalize: \n",
    "# (x-xmin)/(xmax-xmin)\n",
    "#\n",
    "#   resize:\n",
    "#localize center +- 400\n",
    "\n",
    "def normalize(data):\n",
    "    peak_ind = np.argmax(data)\n",
    "    peak_val = data[peak_ind]\n",
    "    min_val = np.min(data)\n",
    "    data = (data-min_val)/(peak_val-min_val)\n",
    "    return data\n"
   ]
  },
  {
   "cell_type": "markdown",
   "id": "2b27916f",
   "metadata": {},
   "source": [
    "# Peak Sensing Function"
   ]
  },
  {
   "cell_type": "code",
   "execution_count": 7,
   "id": "6a221ed7",
   "metadata": {},
   "outputs": [],
   "source": [
    "def create_kernel(raw_data,n,size):\n",
    "    x = np.arange(0,2*size,1)\n",
    "    kernel = np.zeros(2*size)\n",
    "    for i in range(n):\n",
    "        cent = np.argmax(raw_data[i])\n",
    "        tmp = raw_data[i][cent -size:cent+size]\n",
    "        tmp = normalize(tmp)\n",
    "        kernel = kernel + tmp    \n",
    "    return normalize(kernel)\n",
    "\n",
    "def data_size_check(raw_data):\n",
    "    prev_l =len(raw_data[0])\n",
    "    check_ok = 0\n",
    "    for i in range(len(raw_data)-1):\n",
    "        if(len(raw_data[i+1]) == prev_l):\n",
    "            check_ok = check_ok+1\n",
    "    if (check_ok == (len(raw_data)-1)):\n",
    "        return prev_l\n",
    "    else:\n",
    "        return -1\n",
    "    \n",
    "def peak_sensor(raw_data,mute,peak_dist,threshold):\n",
    "    kernel = create_kernel(raw_data,12,500)\n",
    "    ds_gen = []    \n",
    "    n = len(raw_data)\n",
    "    \n",
    "    #size check\n",
    "    data_size = data_size_check(raw_data)\n",
    "    if(data_size == -1): \n",
    "        print(\"data size error\") \n",
    "        return -1\n",
    "    \n",
    "    for i in range(n):\n",
    "        tmp = np.correlate(raw_data[i],kernel,'same')\n",
    "        tmp = normalize(tmp)\n",
    "        tmp[0:mute] = 0\n",
    "        tmp[data_size-mute:data_size] = 0\n",
    "        peaks, _ = find_peaks(tmp, height=threshold, distance=peak_dist)\n",
    "        ds_gen.append(peaks)\n",
    "    return ds_gen\n",
    "        "
   ]
  },
  {
   "cell_type": "code",
   "execution_count": 8,
   "id": "4ed03935",
   "metadata": {},
   "outputs": [],
   "source": [
    "# do peak_sensor\n",
    "mute = 5000\n",
    "ds_gen = peak_sensor(raw_data, mute, 600, 0.1)"
   ]
  },
  {
   "cell_type": "code",
   "execution_count": 9,
   "id": "da845e63",
   "metadata": {},
   "outputs": [
    {
     "data": {
      "text/plain": [
       "15"
      ]
     },
     "execution_count": 9,
     "metadata": {},
     "output_type": "execute_result"
    }
   ],
   "source": [
    "len(ds_gen[0])"
   ]
  },
  {
   "cell_type": "code",
   "execution_count": 10,
   "id": "287efe56",
   "metadata": {},
   "outputs": [
    {
     "data": {
      "image/png": "[encoded data removed]",
      "text/plain": [
       "<Figure size 1440x432 with 1 Axes>"
      ]
     },
     "metadata": {
      "needs_background": "light"
     },
     "output_type": "display_data"
    }
   ],
   "source": [
    "plot_data(ds_gen[0],raw_data[0])"
   ]
  },
  {
   "cell_type": "code",
   "execution_count": 12,
   "id": "f225be6a",
   "metadata": {},
   "outputs": [],
   "source": [
    "for i in range(len(ds_gen)):\n",
    "    np.savetxt(\"./peak_sensor/\"+str(i)+\".txt\",ds_gen[i])"
   ]
  },
  {
   "cell_type": "code",
   "execution_count": null,
   "id": "931b7887",
   "metadata": {},
   "outputs": [],
   "source": []
  }
 ],
 "metadata": {
  "kernelspec": {
   "display_name": "Python 3 (ipykernel)",
   "language": "python",
   "name": "python3"
  },
  "language_info": {
   "codemirror_mode": {
    "name": "ipython",
    "version": 3
   },
   "file_extension": ".py",
   "mimetype": "text/x-python",
   "name": "python",
   "nbconvert_exporter": "python",
   "pygments_lexer": "ipython3",
   "version": "3.8.15"
  }
 },
 "nbformat": 4,
 "nbformat_minor": 5
}
